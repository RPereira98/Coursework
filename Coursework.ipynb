{
 "cells": [
  {
   "cell_type": "markdown",
   "metadata": {},
   "source": [
    "# Coursework "
   ]
  },
  {
   "cell_type": "markdown",
   "metadata": {},
   "source": [
    "**Initialize packages**"
   ]
  },
  {
   "cell_type": "code",
   "execution_count": null,
   "metadata": {},
   "outputs": [],
   "source": [
    "using JuMP, HiGHS, Plots, DataFrames, CSV, Statistics, StatsBase, Printf, Colors  ;"
   ]
  },
  {
   "cell_type": "markdown",
   "metadata": {},
   "source": [
    "**Reading Data**"
   ]
  },
  {
   "cell_type": "code",
   "execution_count": null,
   "metadata": {},
   "outputs": [],
   "source": [
    "flex_avail = DataFrame(CSV.File(\"input_files/Flexible_load_availability.csv\"));"
   ]
  },
  {
   "cell_type": "code",
   "execution_count": null,
   "metadata": {},
   "outputs": [],
   "source": [
    "generators = DataFrame(CSV.File(\"input_files/Generators_data.csv\"));\n"
   ]
  },
  {
   "cell_type": "code",
   "execution_count": null,
   "metadata": {},
   "outputs": [],
   "source": [
    "new_col_names = string.(generators.R_ID);  # Convert to String"
   ]
  },
  {
   "cell_type": "code",
   "execution_count": null,
   "metadata": {},
   "outputs": [],
   "source": [
    "gen_var = DataFrame(CSV.File(\"input_files/Generators_variability.csv\"))\n",
    "gen_var=gen_var[:,2:35];\n",
    "#gen_var=gen_var[:,2:end];\n",
    "rename!(gen_var, new_col_names);"
   ]
  },
  {
   "cell_type": "code",
   "execution_count": null,
   "metadata": {},
   "outputs": [],
   "source": [
    "load = DataFrame(CSV.File(\"input_files/Load_data.csv\"));\n",
    "load=load[:,9:15];"
   ]
  },
  {
   "cell_type": "code",
   "execution_count": null,
   "metadata": {},
   "outputs": [],
   "source": [
    "network = DataFrame(CSV.File(\"input_files/Network.csv\"));"
   ]
  },
  {
   "cell_type": "markdown",
   "metadata": {},
   "source": [
    "### Problem formulation\n"
   ]
  },
  {
   "cell_type": "markdown",
   "metadata": {},
   "source": [
    "**SETS**"
   ]
  },
  {
   "cell_type": "markdown",
   "metadata": {},
   "source": [
    "$\\begin{align}\n",
    "& N & \\text{Set for zones [1:6]}\\\\[6pt]\n",
    "& L & \\text{Set for Transmission Lines [1:10]}\\\\[6pt]\n",
    "& H  &  \\text{Set of hours in the year [1:8736]}\\\\[6pt]\n",
    "& H_2 & \\text{Set of hours for Storage Operation [2:8736]}\\\\[6pt]\n",
    "& Storage & \\text{Set for storage[6 batteries, one per zone]}\\\\[6pt]\n",
    "& Gen & \\text{Set for generators }\\\\[6pt]\n",
    "& Id_{STORAGE} & \\text{Set for storage Id}\\\\[6pt]\n",
    "& Id_{Gen} & \\text{Set for Gen Id }\\\\[6pt]\n",
    "\\end{align}$"
   ]
  },
  {
   "cell_type": "markdown",
   "metadata": {},
   "source": [
    "**Parameters**\n",
    "- $Investment_g$ annuitized capacity of Generator $g$ investment cost (annual cost, $/MW-year)\n",
    "- $Investment_s$ annuitized capacity of Storage $s$ investment cost (annual cost, $/MW-year)\n",
    "- $FixedOM_g$, the fixed operations and maintenance cost of Generator $g$(\\$/MW-year)\n",
    "- $FixedOM_s$, the fixed operations and maintenance cost of Storage $s$(\\$/MW-year)\n",
    "- $VarOM_g$, the variable operations and maintenance cost (\\$/MWh);\n",
    "- $HeatRate_g$, the rate of fuel consumed per unit of electricity produced (MMBtu/MWh);\n",
    "- $FuelCost_g$, the cost of fuel (\\$/MMBtu)\n",
    "- $NSECost$, the opportunity cost or penalty incurred for involuntary non-served energy (\\$/MWh); and\n",
    "- $Demand_h$, is the demand in each hour (MW).\n",
    "- $MaxFlow_{ij}$, the maximum allowable flow along the line from $i$ to $j$ (MW)\n",
    "- $CF_{g,h}$, hourly profile of Generator $g$ (per unit).\n",
    "- $Eff_s$, efficiency of the charge/discharge cycle.\n",
    "- $SOC^{max}$, maximum state of char capacity (MWh)."
   ]
  },
  {
   "cell_type": "markdown",
   "metadata": {},
   "source": [
    "**Variables**\n",
    "$\\begin{align}\n",
    "&\\text{Capacity variable only for new build:}&\\\\[6pt]\n",
    "& CAP_{g} \\geq 0 & \\forall \\quad g \\in Generators\\\\[6pt]\n",
    "&\\text{Capacity variable for Storage:}&\\\\[6pt]\n",
    "& 0 \\leq CAP_s \\leq 100 MW & \\forall \\quad s \\in Storage\\\\[6pt]\n",
    "&\\text{Generation variable:}&\\\\[6pt]\n",
    "& GEN_{g,h} \\geq 0 & \\forall \\quad g \\in NEW_{GEN}  ,  & \\forall \\quad h \\in Hours \\\\[6pt]\n",
    "&\\text{Not Served Energy:}&\\\\[6pt]\n",
    "& NSE_{h} \\geq 0 & \\forall \\quad h \\in H \\\\[6pt]\n",
    "&\\text{Flow variable:}&\\\\[6pt]\n",
    "& FLOW_{l,h} & \\forall \\quad l \\in Transmission_{Lines}  ,  & \\forall \\quad h \\in Hours\\\\[6pt]\n",
    "&\\text{Discharge variable:}&\\\\[6pt]\n",
    "& DISCHARGE_{s,h} \\geq 0 & \\forall \\quad s \\in Storage  ,  & \\forall \\quad h \\in Hours\\\\[6pt]\n",
    "&\\text{Charge variable:}&\\\\[6pt]\n",
    "& CHARGE_{s,h} \\geq 0 & \\forall \\quad s \\in Storage  ,  & \\forall \\quad h \\in Hours\\\\[6pt]\n",
    "&\\text{State of Charge variable:}&\\\\[6pt]\n",
    "& 0\\% \\leq SOC_{s,h} \\leq 100\\%  & \\forall \\quad s \\in Storage  ,  & \\forall \\quad h \\in Hours\\\\[6pt]\n",
    "\\end{align}$"
   ]
  },
  {
   "cell_type": "markdown",
   "metadata": {},
   "source": [
    "**Objective Function**\n",
    "$\\begin{align}\n",
    "\\min &\\sum_{g \\in Gen} FixedCost_g \\times CAP_g + \\sum_{g\\in Gen}\\sum_{h \\in H} VarCost_g \\times GEN_{g,h} +\\\\[6pt]\n",
    "&\\quad\\quad \\sum_{h \\in H} NSECost \\times NSE_h  + \\sum_{s \\in Storage} FixedCost_s \\times CAP_s \\\\[6pt]\n",
    "\\end{align}$\n",
    "\n",
    "$\\begin{align}\n",
    "\\ FixedCost_g = Investment_g + FixedOM_g\\\\[6pt]\n",
    "\\ VarCost_g = VarOM_g + FuelCost_g \\times HeatRate_g \\\\[6pt]\n",
    "\\ FixedCost_s = Investment_s + FixedOM_s\\\\[6pt]\n",
    "\\end{align}$"
   ]
  },
  {
   "cell_type": "markdown",
   "metadata": {},
   "source": [
    "**Constraints**\n",
    "$\\begin{align}\n",
    "&\\text{Capacity constraint for nuclear:}&\\\\[6pt]\n",
    "& GEN_{Nuclear,h} = CAP_{Nuclear} & \\forall h \\in H\\\\[6pt]\n",
    "&\\text{Capacity constraint for new generators:}&\\\\[6pt]\n",
    "& 0 \\leq  GEN_{g,h} \\leq CAP_g \\times CF_{g,h} & \\forall \\quad g \\in GEN, h \\in H\\\\[6pt]\n",
    "&\\text{Supply demand balance constraint:}&\\\\[6pt]\n",
    "&\\sum_{g \\in Gen} GEN_{g,h,i} - Demand_{h,i} + \\sum_{s \\in Storage} (DISCHARGE_{s,h,i} -CHARGE_{s,h,i} ) + NSE_{h,i}  = \\sum_{j \\in J_i} FLOW_{ij} & \\forall \\quad i \\in \\text{N} &, & \\forall \\quad h \\in \\text{H}\\\\\n",
    "&\\text{Thermal limit constraint:}&\\\\[6pt]\n",
    "& |FLOW_{ij}| \\leq MaxFlow_{ij} & \\forall \\quad i \\in \\text{N} &, & \\forall j \\in J_i \\\\\n",
    "&\\text{Flow direction constraint:}&\\\\[6pt]\n",
    "& FLOW_{ij} = - FLOW_{ji} & \\forall \\quad i, j \\in \\text{N} \\\\\n",
    "&\\text{State of Charge constraint:}&\\\\[6pt]\n",
    "& SOC_{s,h}=SOC_{s,h-1} + \\big(CHARGE_{s,h} * Eff_s - \\frac{DISCHARGE_{s,h}}{Eff_s}\\big)  & \\forall \\quad s \\in Storage, h \\in H_2 \\\\[6pt]\n",
    "&\\text{Initial and Final State of Charge constraint:}&\\\\[6pt]\n",
    "& SOC_{s,1} = SOC_{s,t_{end}} = 50\\% *SOC_{s}^{max}& \\forall \\quad s \\in Storage\\\\[6pt]\n",
    "&\\text{Disharge Rate constraint:}&\\\\[6pt]\n",
    "& 0 \\leq DISCHARGE_{s,h} \\leq CAP_s  & \\forall \\quad s \\in Storage,  h \\in H\\\\[6pt]\n",
    "&\\text{Charge Rate constraint:}&\\\\[6pt]\n",
    "& 0 \\leq CHARGE_{s,h} \\leq  CAP_s  & \\forall \\quad s \\in Storage,  h \\in H\\\\[6pt]\n",
    "&\\text{State of Charge constraint:}&\\\\[6pt]\n",
    "& 0 \\leq SOC_{s,h} \\leq SOC_{s}^{max}& \\forall \\quad s \\in Storage, h \\in H\\\\[6pt]\n",
    "\\end{align}$\n"
   ]
  },
  {
   "cell_type": "markdown",
   "metadata": {},
   "source": [
    "**CASE 1: NO FLEXIBILITY**"
   ]
  },
  {
   "cell_type": "markdown",
   "metadata": {},
   "source": [
    "**Sets**"
   ]
  },
  {
   "cell_type": "code",
   "execution_count": null,
   "metadata": {},
   "outputs": [],
   "source": [
    "N=[1,2,3,4,5,6]; #zones\n",
    "L=[1,2,3,4,5,6,7,8,9,10]; # transmission lines"
   ]
  },
  {
   "cell_type": "code",
   "execution_count": null,
   "metadata": {},
   "outputs": [],
   "source": [
    "# The set of hours in the demand DataFrame\n",
    "H = load.Time_index; # same for every zone"
   ]
  },
  {
   "cell_type": "code",
   "execution_count": null,
   "metadata": {},
   "outputs": [],
   "source": [
    "H_2 = H[2:end]; # to avoid the first hour "
   ]
  },
  {
   "cell_type": "code",
   "execution_count": null,
   "metadata": {},
   "outputs": [],
   "source": [
    "# Storage\n",
    "storage = generators[generators.Resource .== \"battery\", :];"
   ]
  },
  {
   "cell_type": "code",
   "execution_count": null,
   "metadata": {},
   "outputs": [],
   "source": [
    "# Generators\n",
    "gen = generators[generators.Resource .!= \"battery\", :];"
   ]
  },
  {
   "cell_type": "code",
   "execution_count": null,
   "metadata": {},
   "outputs": [],
   "source": [
    "# Storage id\n",
    "Id_storage=storage.R_ID;\n",
    "# Generators id\n",
    "Id_gen=gen.R_ID;\n",
    "#Zones\n",
    "Zone_gen=gen.Zone;"
   ]
  },
  {
   "cell_type": "markdown",
   "metadata": {},
   "source": [
    "**Define the Incident Matrix**"
   ]
  },
  {
   "cell_type": "code",
   "execution_count": null,
   "metadata": {},
   "outputs": [],
   "source": [
    "# Define the Incident Matrix\n",
    "A = [\n",
    "    1   -1   0    0    0    0;\n",
    "    1    0  -1    0    0    0;\n",
    "    0    1  -1    0    0    0;\n",
    "    0    1   0   -1    0    0;\n",
    "    0    0   1   -1    0    0;\n",
    "    0    0   0    1   -1    0;\n",
    "    0    0   0    1    0   -1;\n",
    "    1    0   0    0   -1    0;\n",
    "    0    1   0    0   -1    0;\n",
    "    0    0   1    0   -1    0\n",
    "];"
   ]
  },
  {
   "cell_type": "markdown",
   "metadata": {},
   "source": [
    "**Model**"
   ]
  },
  {
   "cell_type": "code",
   "execution_count": null,
   "metadata": {},
   "outputs": [],
   "source": [
    "NoFlex_Model = Model(HiGHS.Optimizer) # using the HiGHS open source solver"
   ]
  },
  {
   "cell_type": "markdown",
   "metadata": {},
   "source": [
    "**Variables**"
   ]
  },
  {
   "cell_type": "code",
   "execution_count": null,
   "metadata": {},
   "outputs": [],
   "source": [
    "@variables(NoFlex_Model, begin\n",
    "    # Generating capacity (MW)\n",
    "    CAP[g in Id_gen] >= 0\n",
    "    # Storage capacity (MW)\n",
    "    100 >= CAP_stor[s in Id_storage] >= 0\n",
    "    \n",
    "    # Generation in each hour (MWh)\n",
    "    GEN[g in Id_gen, h in H] >= 0\n",
    "    \n",
    "    # Non-served energy in each hour (MWh) – currently uses zones 1:6\n",
    "    NSE[h in H, z in N] >= 0\n",
    "    \n",
    "    # Flow\n",
    "    FLOW[l in L, h in H]\n",
    "    \n",
    "    # Storage operations (charge/discharge in MW, SOC in MWh)\n",
    "    \n",
    "    0 <= DISCHARGE[s in Id_storage, h in H]\n",
    "    0 <= CHARGE[s in Id_storage, h in H]    \n",
    "    0 <= SOC[s in Id_storage, h in H]       \n",
    "    \n",
    "end);\n",
    "\n",
    "\n",
    "\n"
   ]
  },
  {
   "cell_type": "markdown",
   "metadata": {},
   "source": [
    "**Constraints**"
   ]
  },
  {
   "cell_type": "code",
   "execution_count": null,
   "metadata": {},
   "outputs": [],
   "source": [
    "@constraints(NoFlex_Model, begin\n",
    "\n",
    "#Inflexibility of Nuclear Plants\n",
    "NuclearInflexibility[id in Id_gen ∩ gen[gen.Resource .== \"nuclear\", :R_ID], h in H], GEN[id, h] == CAP[id]\n",
    "\n",
    "#Generation Capacity\n",
    "Generation[id in Id_gen,h in H], GEN[id,h]<=CAP[id] * gen_var[h,string(id)]   \n",
    "\n",
    "#Supply Demand Balance\n",
    "cBalance1[h in H], sum(GEN[id,h] for id in gen[gen.Zone .== 1,:R_ID]) - load.Load_MW_z1[h] +  sum(DISCHARGE[id_s,h] for id_s in storage[storage.Zone.==1,:R_ID])-sum(CHARGE[id_s,h] for id_s in storage[storage.Zone.==1,:R_ID]) + NSE[h,1]== sum(A[l,1]*FLOW[l,h] for l in L) ;  \n",
    "cBalance2[h in H], sum(GEN[id,h] for id in gen[gen.Zone .== 2,:R_ID]) - load.Load_MW_z2[h] +  sum(DISCHARGE[id_s,h] for id_s in storage[storage.Zone.==2,:R_ID])-sum(CHARGE[id_s,h] for id_s in storage[storage.Zone.==2,:R_ID]) + NSE[h,2]== sum(A[l,2]*FLOW[l,h] for l in L) ;   \n",
    "cBalance3[h in H], sum(GEN[id,h] for id in gen[gen.Zone .== 3,:R_ID]) - load.Load_MW_z3[h] +  sum(DISCHARGE[id_s,h] for id_s in storage[storage.Zone.==3,:R_ID])-sum(CHARGE[id_s,h] for id_s in storage[storage.Zone.==3,:R_ID]) + NSE[h,3]== sum(A[l,3]*FLOW[l,h] for l in L) ;\n",
    "cBalance4[h in H], sum(GEN[id,h] for id in gen[gen.Zone .== 4,:R_ID]) - load.Load_MW_z4[h] +  sum(DISCHARGE[id_s,h] for id_s in storage[storage.Zone.==4,:R_ID])-sum(CHARGE[id_s,h] for id_s in storage[storage.Zone.==4,:R_ID]) + NSE[h,4]== sum(A[l,4]*FLOW[l,h] for l in L) ;  \n",
    "cBalance5[h in H], sum(GEN[id,h] for id in gen[gen.Zone .== 5,:R_ID]) - load.Load_MW_z5[h] +  sum(DISCHARGE[id_s,h] for id_s in storage[storage.Zone.==5,:R_ID])-sum(CHARGE[id_s,h] for id_s in storage[storage.Zone.==5,:R_ID]) + NSE[h,5]== sum(A[l,5]*FLOW[l,h] for l in L) ;  \n",
    "cBalance6[h in H], sum(GEN[id,h] for id in gen[gen.Zone .== 6,:R_ID]) - load.Load_MW_z6[h] +  sum(DISCHARGE[id_s,h] for id_s in storage[storage.Zone.==6,:R_ID])-sum(CHARGE[id_s,h] for id_s in storage[storage.Zone.==6,:R_ID]) + NSE[h,6]== sum(A[l,6]*FLOW[l,h] for l in L) ;\n",
    "\n",
    "#Thermal constraint\n",
    "Positive_max_flow[l in L, h in H], FLOW[l,h] <= network[l,:Line_Max_Flow_MW]\n",
    "Negative_max_flow[l in L, h in H], FLOW[l,h] >= -network[l,:Line_Max_Flow_MW]\n",
    "\n",
    "#State of charge\n",
    "StateOfCharge[s in Id_storage, h in H_2], SOC[s,h] == SOC[s,h-1] + storage[storage.R_ID.==s,:Charge_efficiency][1]*CHARGE[s,h] - DISCHARGE[s,h]/storage[storage.R_ID.==s,:Discharge_efficiency][1] # State of charge of storage units\n",
    "\n",
    "#States initial condition for SOC level (assumes half SOC)\n",
    "StateOfcharge_ini[s in Id_storage], SOC[s,1].==0.5*CAP_stor[s].*storage.Max_Duration[storage.R_ID.==s] \n",
    "\n",
    "#States final condition for SOC level (assumes half SOC)\n",
    "StateOfcharge_end[s in Id_storage], SOC[s,8736].==0.5*CAP_stor[s].*storage.Max_Duration[storage.R_ID.==s] \n",
    "\n",
    "# Storage operations (charge/discharge in MW, SOC in MWh)\n",
    "limitdis[s in Id_storage, h in H], DISCHARGE[s,h] <= CAP_stor[s]\n",
    "limitcha[s in Id_storage, h in H], CHARGE[s,h]<= CAP_stor[s]\n",
    "limitSOC[s in Id_storage, h in H], SOC[s,h] .<= CAP_stor[s].*storage.Max_Duration[storage.R_ID.==s]\n",
    "\n",
    "end);"
   ]
  },
  {
   "cell_type": "markdown",
   "metadata": {},
   "source": [
    "**Objective function**"
   ]
  },
  {
   "cell_type": "code",
   "execution_count": null,
   "metadata": {},
   "outputs": [],
   "source": [
    "@objective(NoFlex_Model,Min,\n",
    "sum(\n",
    "(sum(gen[gen.R_ID.==id, :Inv_cost_per_MWyr])+sum(gen[gen.R_ID.==id, :Fixed_OM_cost_per_MWyr]))*CAP[id]+\n",
    "sum(sum(gen[gen.R_ID.==id,:Var_OM_cost_per_MWh] .+ sum(gen[gen.R_ID.==id,:Heat_rate_MMBTU_per_MWh].*gen[gen.R_ID.==id,:Cost_per_MMBtu]))\n",
    "*GEN[id,h] for h in H) for id in Id_gen)+\n",
    "sum(NSE[h, z] for h in H, z in N)*9000+\n",
    "sum((sum(storage[storage.R_ID.==id_s,:Inv_cost_per_MWyr]).+sum(storage[storage.R_ID.==id_s,:Fixed_OM_cost_per_MWyr]))*CAP_stor[id_s] for id_s in Id_storage)\n",
    ")\n"
   ]
  },
  {
   "cell_type": "code",
   "execution_count": null,
   "metadata": {},
   "outputs": [],
   "source": [
    "optimize!(NoFlex_Model)"
   ]
  },
  {
   "cell_type": "markdown",
   "metadata": {},
   "source": [
    "**Font**"
   ]
  },
  {
   "cell_type": "code",
   "execution_count": null,
   "metadata": {},
   "outputs": [],
   "source": [
    "default(\n",
    "    fontfamily = \"Arial\",  # Change this to your desired font\n",
    "    titlefont = font(12),  # Title font size\n",
    "    guidefont = font(12),  # Axis labels font size\n",
    "    tickfont = font(12),   # Tick labels font size\n",
    "    legendfont = font(8)  # Legend font size\n",
    ")"
   ]
  },
  {
   "cell_type": "code",
   "execution_count": null,
   "metadata": {},
   "outputs": [],
   "source": [
    "plot(load.Load_MW_z1+load.Load_MW_z2+load.Load_MW_z3+load.Load_MW_z4+load.Load_MW_z5+load.Load_MW_z6, xlims=(2550,2574) ,label=\"\")\n",
    "title!(\"Highest demand day\")\n",
    "xaxis!(\"Hour\")\n",
    "yaxis!(\"MWh\")"
   ]
  },
  {
   "cell_type": "code",
   "execution_count": null,
   "metadata": {},
   "outputs": [],
   "source": [
    "\n",
    "# Create empty arrays to store generator, hour, and generation values\n",
    "generators = Int[]\n",
    "hours = Int[]\n",
    "generation_values = Float64[]\n",
    "\n",
    "# Loop through each generator and hour, and store values\n",
    "for g in Id_gen\n",
    "    for h in H\n",
    "        push!(generators, g)\n",
    "        push!(hours, h)\n",
    "        push!(generation_values, value(GEN[g, h]))\n",
    "    end\n",
    "end\n",
    "\n",
    "# Create DataFrame from the collected values\n",
    "df_gen_values = DataFrame(generators=generators, hour=hours, generation=generation_values)\n",
    "# Merge df_gen_values with gen, renaming columns to align properly\n",
    "df_gen_values = innerjoin(df_gen_values, gen, on=:generators => :R_ID)  # Merges on generators = R_ID\n",
    "\n",
    "# Container to store each subplot\n",
    "plot_list = []\n",
    "\n",
    "# Loop through each zone and create its corresponding plot\n",
    "for z in unique(df_gen_values.Zone)\n",
    "    # Filter data for the current zone\n",
    "    df_zone = filter(row -> row.Zone == z, df_gen_values)\n",
    "\n",
    "    # Skip if no generators in this zone\n",
    "    if nrow(df_zone) == 0\n",
    "        println(\"No generators in zone $z\")\n",
    "        continue\n",
    "    end\n",
    "\n",
    "    # Create a new plot for this zone\n",
    "    p = plot(\n",
    "        title = \"Generation Over Time (Zone $z)\",\n",
    "        xlabel = \"Hour\", ylabel = \"Generation (MWh)\",\n",
    "        xlims = (0, 48)\n",
    "    )\n",
    "\n",
    "    # Plot each generator in this zone\n",
    "    for g in unique(df_zone.generators)\n",
    "        df_g = df_zone[df_zone.generators .== g, :]\n",
    "        resource_name = df_g.Resource[1]\n",
    "        plot!(p, df_g.hour, df_g.generation, label = \"$resource_name\", linewidth = 2)\n",
    "        resource_name = df_g.Resource[1]\n",
    "    end\n",
    "\n",
    "    # Add the current plot to the list\n",
    "    push!(plot_list, p)\n",
    "end\n",
    "\n",
    "# Combine all the plots into a subplot grid.\n",
    "# Adjust layout, overall figure size, and spacing as needed.\n",
    "final_plot = plot(plot_list..., layout = (3, 2), size = (1200, 800), subplot_padding = 10)\n",
    "display(final_plot)\n",
    "\n"
   ]
  },
  {
   "cell_type": "code",
   "execution_count": null,
   "metadata": {},
   "outputs": [],
   "source": [
    "# Extract storage capacities\n",
    "stor_capacities = [(s, value(CAP_stor[s])) for s in Id_storage]\n",
    "\n",
    "# Convert to a DataFrame\n",
    "df_stor_capacities = DataFrame(storage_unit=first.(stor_capacities), \n",
    "                               capacity=last.(stor_capacities))\n",
    "\n",
    "# Print the storage capacities\n",
    "println(df_stor_capacities)"
   ]
  },
  {
   "cell_type": "code",
   "execution_count": null,
   "metadata": {},
   "outputs": [],
   "source": [
    "# Storage unit ID (Change as needed)\n",
    "s_id = 58;  \n",
    "\n",
    "# Create empty vectors for SOC and hours\n",
    "soc_values = Float64[]\n",
    "hours = Int[]\n",
    "\n",
    "# Loop through each hour to extract SOC values for storage unit 's_id'\n",
    "for h in H\n",
    "    push!(soc_values, value(SOC[s_id, h]))  # Store SOC values\n",
    "    push!(hours, h)  # Store the corresponding hour\n",
    "end\n",
    "\n",
    "# Create a plot\n",
    "plot(hours, soc_values, label=\"SOC\", linewidth=2, linestyle=:solid, color=:blue, xlims=(8700, maximum(H)))\n",
    "\n",
    "# Add labels and title\n",
    "xlabel!(\"Hour\")\n",
    "ylabel!(\"SOC (MWh)\")\n",
    "title!(\"State of Charge Over Time for Storage Unit $s_id\")\n"
   ]
  },
  {
   "cell_type": "code",
   "execution_count": null,
   "metadata": {},
   "outputs": [],
   "source": [
    "# Extract nodal prices for each node over time\n",
    "nodal_prices_node1 = Dict(h => dual(cBalance1[h, 1]) for h in H)  # Node 1\n",
    "nodal_prices_node2 = Dict(h => dual(cBalance2[h, 1]) for h in H)  # Node 2\n",
    "nodal_prices_node3 = Dict(h => dual(cBalance3[h, 1]) for h in H)  # Node 3\n",
    "nodal_prices_node4 = Dict(h => dual(cBalance4[h, 1]) for h in H)  # Node 4\n",
    "nodal_prices_node5 = Dict(h => dual(cBalance5[h, 1]) for h in H)  # Node 5\n",
    "nodal_prices_node6 = Dict(h => dual(cBalance6[h, 1]) for h in H)  # Node 6\n",
    "# Display sample prices for each node\n",
    "println(\"Nodal price at node 1, hour 1: \", nodal_prices_node1[1])\n",
    "println(\"Nodal price at node 2, hour 1: \", nodal_prices_node2[1])\n",
    "println(\"Nodal price at node 3, hour 1: \", nodal_prices_node3[1])\n",
    "println(\"Nodal price at node 4, hour 1: \", nodal_prices_node4[1])\n",
    "println(\"Nodal price at node 5, hour 1: \", nodal_prices_node5[1])\n",
    "println(\"Nodal price at node 6, hour 1: \", nodal_prices_node6[1])\n",
    "\n",
    "# Convert nodal prices into vectors\n",
    "nodal_prices_vector1 = [nodal_prices_node1[h] for h in H]\n",
    "nodal_prices_vector2 = [nodal_prices_node2[h] for h in H]\n",
    "nodal_prices_vector3 = [nodal_prices_node3[h] for h in H]\n",
    "nodal_prices_vector4 = [nodal_prices_node4[h] for h in H]\n",
    "nodal_prices_vector5 = [nodal_prices_node5[h] for h in H]\n",
    "nodal_prices_vector6 = [nodal_prices_node6[h] for h in H]\n",
    "\n",
    "# Create DataFrame (optional, if needed for further analysis)\n",
    "nodal_prices_df = DataFrame(\n",
    "    Hour = H,\n",
    "    Node_1 = nodal_prices_vector1,\n",
    "    Node_2 = nodal_prices_vector2,\n",
    "    Node_3 = nodal_prices_vector3,\n",
    "    Node_4 = nodal_prices_vector4,\n",
    "    Node_5 = nodal_prices_vector5,\n",
    "    Node_6 = nodal_prices_vector6\n",
    ")\n",
    "\n",
    "\n",
    "# Plot nodal prices for Node 1, Node 2, and Node 3\n",
    "p12 = plot(H, nodal_prices_vector1, xlabel=\"Hour\", ylabel=\"Nodal Price (USD/MWh)\",\n",
    "           title=\"Nodal Prices Over Time\", label=\"Node 1\", lw=2,\n",
    "           xlims=(0, 48), ylims=(0, 400),legend=:topright)\n",
    "\n",
    "plot!(H, nodal_prices_vector2, label=\"Node 2\", lw=2)\n",
    "plot!(H, nodal_prices_vector3, label=\"Node 3\", lw=2)\n",
    "plot!(H, nodal_prices_vector4, label=\"Node 4\", lw=2)\n",
    "plot!(H, nodal_prices_vector5, label=\"Node 5\", lw=2)\n",
    "plot!(H, nodal_prices_vector6, label=\"Node 6\", lw=2)\n",
    "\n",
    "\n",
    "display(p12)"
   ]
  },
  {
   "cell_type": "code",
   "execution_count": null,
   "metadata": {},
   "outputs": [],
   "source": [
    "#Average price of electricicty\n",
    "avg1=sum(nodal_prices_vector1)/length(nodal_prices_vector1);#zone1\n",
    "avg2=sum(nodal_prices_vector2)/length(nodal_prices_vector2);#zone1\n",
    "avg3=sum(nodal_prices_vector3)/length(nodal_prices_vector3);#zone1\n",
    "avg4=sum(nodal_prices_vector4)/length(nodal_prices_vector4);#zone1\n",
    "avg5=sum(nodal_prices_vector5)/length(nodal_prices_vector5);#zone1\n",
    "avg6=sum(nodal_prices_vector6)/length(nodal_prices_vector6);#zone1\n",
    "avg_total=(avg1+avg2+avg3+avg4+avg5+avg6)/6\n",
    "\n",
    "println(\"Average price in Region 1 = $avg1\")\n",
    "println(\"Average price in Region 2 = $avg2\")\n",
    "println(\"Average price in Region 3 = $avg3\")\n",
    "println(\"Average price in Region 4 = $avg4\")\n",
    "println(\"Average price in Region 5 = $avg5\")\n",
    "println(\"Average price in Region 6 = $avg6\")\n",
    "println(\"Average price of all regions = $avg_total\")\n"
   ]
  },
  {
   "cell_type": "code",
   "execution_count": null,
   "metadata": {},
   "outputs": [],
   "source": [
    "\n",
    "\n",
    "# Define unique colors for each plot\n",
    "colors = [:blue, :red, :green, :orange, :purple, :brown]\n",
    "\n",
    "# Container for each individual plot\n",
    "plot_list = []\n",
    "a=0;\n",
    "for i in N\n",
    "    nse_values = Float64[]\n",
    "    hours = Int[]\n",
    "    # Loop through each hour to extract SOC values for storage unit 's_id'\n",
    "    for h in H\n",
    "        push!(nse_values, value(NSE[h, i]))  # Store SOC values\n",
    "        push!(hours, h)                     # Store the corresponding hour\n",
    "        a=a+value(NSE[h, i])\n",
    "    end\n",
    "    # Create the plot for this series with its own color and title\n",
    "    p = plot(hours, nse_values, label=\"NSE$(i)\", linewidth=2,\n",
    "             linestyle=:solid, color=colors[i],\n",
    "             xlims=(0, maximum(H)),\n",
    "             xlabel=\"Hour\", ylabel=\"NSE (MWh)\",\n",
    "             title=\"NSE Zone $(i)\")\n",
    "    push!(plot_list, p)\n",
    "end\n",
    "\n",
    "# Arrange the 6 plots in a grid layout (3 rows x 2 columns)\n",
    "plot(plot_list..., layout=(2, 3), size=(700,500), subplot_padding=10)\n",
    "#print(a)\n"
   ]
  },
  {
   "cell_type": "code",
   "execution_count": null,
   "metadata": {},
   "outputs": [],
   "source": [
    "\n",
    "Total_Load=sum(load.Load_MW_z1+load.Load_MW_z2+load.Load_MW_z3+load.Load_MW_z4+load.Load_MW_z5+load.Load_MW_z6)\n",
    "\n",
    "obj_val = objective_value(NoFlex_Model)\n",
    "obj_val/Total_Load\n",
    "\n"
   ]
  },
  {
   "cell_type": "code",
   "execution_count": null,
   "metadata": {},
   "outputs": [],
   "source": [
    "objective_value(NoFlex_Model)"
   ]
  },
  {
   "cell_type": "markdown",
   "metadata": {},
   "source": [
    "**Highest Demand Day**"
   ]
  },
  {
   "cell_type": "code",
   "execution_count": null,
   "metadata": {},
   "outputs": [],
   "source": [
    "plot(load.Load_MW_z1+load.Load_MW_z2+load.Load_MW_z3+load.Load_MW_z4+load.Load_MW_z5+load.Load_MW_z6, xlims=(2538,2586) ,label=\"\")\n",
    "title!(\"Highest demand day\")\n",
    "xaxis!(\"Hour\")\n",
    "yaxis!(\"MWh\")\n",
    "\n",
    "\n",
    "\n",
    "\n"
   ]
  },
  {
   "cell_type": "markdown",
   "metadata": {},
   "source": [
    "**Generators**"
   ]
  },
  {
   "cell_type": "code",
   "execution_count": null,
   "metadata": {},
   "outputs": [],
   "source": [
    "# Generators\n",
    "plot_list = []\n",
    "\n",
    "# Loop through each zone and create its corresponding plot\n",
    "for z in unique(df_gen_values.Zone)\n",
    "    # Filter data for the current zone\n",
    "    df_zone = filter(row -> row.Zone == z, df_gen_values)\n",
    "\n",
    "    # Skip if no generators in this zone\n",
    "    if nrow(df_zone) == 0\n",
    "        println(\"No generators in zone $z\")\n",
    "        continue\n",
    "    end\n",
    "\n",
    "    # Create a new plot for this zone\n",
    "    p = plot(\n",
    "        title = \"Generation Over Time (Zone $z)\",\n",
    "        xlabel = \"Hour\", ylabel = \"Generation (MWh)\",\n",
    "        xlims = (2538,2586)\n",
    "    )\n",
    "\n",
    "    # Plot each generator in this zone\n",
    "    for g in unique(df_zone.generators)\n",
    "        df_g = df_zone[df_zone.generators .== g, :]\n",
    "        resource_name = df_g.Resource[1]\n",
    "        plot!(p, df_g.hour, df_g.generation, label = \"$resource_name\", linewidth = 2)\n",
    "        resource_name = df_g.Resource[1]\n",
    "    end\n",
    "\n",
    "    # Add the current plot to the list\n",
    "    push!(plot_list, p)\n",
    "end\n",
    "\n",
    "# Combine all the plots into a subplot grid.\n",
    "# Adjust layout, overall figure size, and spacing as needed.\n",
    "final_plot = plot(plot_list..., layout = (3, 2), size = (1200, 800), subplot_padding = 10)\n",
    "display(final_plot)\n"
   ]
  },
  {
   "cell_type": "markdown",
   "metadata": {},
   "source": [
    "**Nodal Prices**"
   ]
  },
  {
   "cell_type": "code",
   "execution_count": null,
   "metadata": {},
   "outputs": [],
   "source": [
    "#Nodal prices\n",
    "# Plot nodal prices for Node 1, Node 2, and Node 3\n",
    "p12 = plot(H, nodal_prices_vector1, xlabel=\"Hour\", ylabel=\"Nodal Price (USD/MWh)\",\n",
    "           title=\"Nodal Prices Over Time\", label=\"Node 1\", lw=2,\n",
    "           xlims=(2538,2586), ylims=(0, 1000),legend=:topright)\n",
    "\n",
    "plot!(H, nodal_prices_vector2, label=\"Node 2\", lw=2)\n",
    "plot!(H, nodal_prices_vector3, label=\"Node 3\", lw=2)\n",
    "plot!(H, nodal_prices_vector4, label=\"Node 4\", lw=2)\n",
    "plot!(H, nodal_prices_vector5, label=\"Node 5\", lw=2)\n",
    "plot!(H, nodal_prices_vector6, label=\"Node 6\", lw=2)\n",
    "\n",
    "\n",
    "display(p12)"
   ]
  },
  {
   "cell_type": "markdown",
   "metadata": {},
   "source": [
    "Unserved Energy"
   ]
  },
  {
   "cell_type": "code",
   "execution_count": null,
   "metadata": {},
   "outputs": [],
   "source": [
    "# Define unique colors for each plot\n",
    "colors = [:blue, :red, :green, :orange, :purple, :brown]\n",
    "\n",
    "# Container for each individual plot\n",
    "plot_list = []\n",
    "\n",
    "for i in N\n",
    "    nse_values = Float64[]\n",
    "    hours = Int[]\n",
    "    # Loop through each hour to extract SOC values for storage unit 's_id'\n",
    "    for h in H\n",
    "        push!(nse_values, value(NSE[h, i]))  # Store SOC values\n",
    "        push!(hours, h)                     # Store the corresponding hour\n",
    "    end\n",
    "    # Create the plot for this series with its own color and title\n",
    "    p = plot(hours, nse_values, label=\"NSE$(i)\", linewidth=2,\n",
    "             linestyle=:solid, color=colors[i],\n",
    "             xlims=(2538,2586),\n",
    "             xlabel=\"Hour\", ylabel=\"NSE (MWh)\",\n",
    "             title=\"NSE Zone $(i)\")\n",
    "    push!(plot_list, p)\n",
    "end\n",
    "\n",
    "# Arrange the 6 plots in a grid layout (3 rows x 2 columns)\n",
    "plot(plot_list..., layout=(3, 2), size=(1300,900), subplot_padding=10)"
   ]
  },
  {
   "cell_type": "markdown",
   "metadata": {},
   "source": [
    "**Last Day**"
   ]
  },
  {
   "cell_type": "code",
   "execution_count": null,
   "metadata": {},
   "outputs": [],
   "source": [
    "#Demand\n",
    "plot(load.Load_MW_z1+load.Load_MW_z2+load.Load_MW_z3+load.Load_MW_z4+load.Load_MW_z5+load.Load_MW_z6, xlims=(8688,8736) ,label=\"\")\n",
    "title!(\"Highest demand day\")\n",
    "xaxis!(\"Hour\")\n",
    "yaxis!(\"MWh\")"
   ]
  },
  {
   "cell_type": "code",
   "execution_count": null,
   "metadata": {},
   "outputs": [],
   "source": [
    "\n",
    "#Generators\n",
    "# Generators\n",
    "plot_list = []\n",
    "\n",
    "# Loop through each zone and create its corresponding plot\n",
    "for z in unique(df_gen_values.Zone)\n",
    "    # Filter data for the current zone\n",
    "    df_zone = filter(row -> row.Zone == z, df_gen_values)\n",
    "\n",
    "    # Skip if no generators in this zone\n",
    "    if nrow(df_zone) == 0\n",
    "        println(\"No generators in zone $z\")\n",
    "        continue\n",
    "    end\n",
    "\n",
    "    # Create a new plot for this zone\n",
    "    p = plot(\n",
    "        title = \"Generation Over Time (Zone $z)\",\n",
    "        xlabel = \"Hour\", ylabel = \"Generation (MWh)\",\n",
    "        xlims = (8688,8736)\n",
    "    )\n",
    "\n",
    "    # Plot each generator in this zone\n",
    "    for g in unique(df_zone.generators)\n",
    "        df_g = df_zone[df_zone.generators .== g, :]\n",
    "        resource_name = df_g.Resource[1]\n",
    "        plot!(p, df_g.hour, df_g.generation, label = \"$resource_name\", linewidth = 2)\n",
    "        resource_name = df_g.Resource[1]\n",
    "    end\n",
    "\n",
    "    # Add the current plot to the list\n",
    "    push!(plot_list, p)\n",
    "end\n",
    "\n",
    "# Combine all the plots into a subplot grid.\n",
    "# Adjust layout, overall figure size, and spacing as needed.\n",
    "final_plot = plot(plot_list..., layout = (3, 2), size = (1200, 800), subplot_padding = 10)\n",
    "display(final_plot)"
   ]
  },
  {
   "cell_type": "code",
   "execution_count": null,
   "metadata": {},
   "outputs": [],
   "source": [
    "#Nodal\n",
    "#Nodal prices\n",
    "# Plot nodal prices for Node 1, Node 2, and Node 3\n",
    "p12 = plot(H, nodal_prices_vector1, xlabel=\"Hour\", ylabel=\"Nodal Price (USD/MWh)\",\n",
    "           title=\"Nodal Prices Over Time\", label=\"Node 1\", lw=2,\n",
    "           xlims=(8688,8736), ylims=(0, 400),legend=:topright)\n",
    "\n",
    "plot!(H, nodal_prices_vector2, label=\"Node 2\", lw=2)\n",
    "plot!(H, nodal_prices_vector3, label=\"Node 3\", lw=2)\n",
    "plot!(H, nodal_prices_vector4, label=\"Node 4\", lw=2)\n",
    "plot!(H, nodal_prices_vector5, label=\"Node 5\", lw=2)\n",
    "plot!(H, nodal_prices_vector6, label=\"Node 6\", lw=2)\n",
    "\n",
    "\n",
    "display(p12)"
   ]
  },
  {
   "cell_type": "markdown",
   "metadata": {},
   "source": [
    "**First Day**"
   ]
  },
  {
   "cell_type": "code",
   "execution_count": null,
   "metadata": {},
   "outputs": [],
   "source": [
    "#Demand\n",
    "#Demand\n",
    "plot(load.Load_MW_z1+load.Load_MW_z2+load.Load_MW_z3+load.Load_MW_z4+load.Load_MW_z5+load.Load_MW_z6, xlims=(2270,2280) ,label=\"\")\n",
    "title!(\"Highest demand day\")\n",
    "xaxis!(\"Hour\")\n",
    "yaxis!(\"MWh\")"
   ]
  },
  {
   "cell_type": "code",
   "execution_count": null,
   "metadata": {},
   "outputs": [],
   "source": [
    "#Generators\n",
    "# Generators\n",
    "plot_list = []\n",
    "\n",
    "# Loop through each zone and create its corresponding plot\n",
    "for z in unique(df_gen_values.Zone)\n",
    "    # Filter data for the current zone\n",
    "    df_zone = filter(row -> row.Zone == z, df_gen_values)\n",
    "\n",
    "    # Skip if no generators in this zone\n",
    "    if nrow(df_zone) == 0\n",
    "        println(\"No generators in zone $z\")\n",
    "        continue\n",
    "    end\n",
    "\n",
    "    # Create a new plot for this zone\n",
    "    p = plot(\n",
    "        title = \"Generation Over Time (Zone $z)\",\n",
    "        xlabel = \"Hour\", ylabel = \"Generation (MWh)\",\n",
    "        xlims = (2270,2280)\n",
    "    )\n",
    "\n",
    "    # Plot each generator in this zone\n",
    "    for g in unique(df_zone.generators)\n",
    "        df_g = df_zone[df_zone.generators .== g, :]\n",
    "        resource_name = df_g.Resource[1]\n",
    "        plot!(p, df_g.hour, df_g.generation, label = \"$resource_name\", linewidth = 2)\n",
    "        resource_name = df_g.Resource[1]\n",
    "    end\n",
    "\n",
    "    # Add the current plot to the list\n",
    "    push!(plot_list, p)\n",
    "end\n",
    "\n",
    "# Combine all the plots into a subplot grid.\n",
    "# Adjust layout, overall figure size, and spacing as needed.\n",
    "final_plot = plot(plot_list..., layout = (3, 2), size = (1200, 800), subplot_padding = 10)\n",
    "display(final_plot)"
   ]
  },
  {
   "cell_type": "code",
   "execution_count": null,
   "metadata": {},
   "outputs": [],
   "source": [
    "#Nodal\n",
    "#Nodal prices\n",
    "# Plot nodal prices for Node 1, Node 2, and Node 3\n",
    "p12 = plot(H, nodal_prices_vector1, xlabel=\"Hour\", ylabel=\"Nodal Price (USD/MWh)\",\n",
    "           title=\"Nodal Prices Over Time\", label=\"Node 1\", lw=2,\n",
    "           xlims=(2270,2280),legend=:topright)\n",
    "\n",
    "plot!(H, nodal_prices_vector2, label=\"Node 2\", lw=2)\n",
    "plot!(H, nodal_prices_vector3, label=\"Node 3\", lw=2)\n",
    "plot!(H, nodal_prices_vector4, label=\"Node 4\", lw=2)\n",
    "plot!(H, nodal_prices_vector5, label=\"Node 5\", lw=2)\n",
    "plot!(H, nodal_prices_vector6, label=\"Node 6\", lw=2)\n",
    "\n",
    "\n",
    "display(p12)\n",
    "savefig(p12, \"price_flact_nonflex.pdf\")"
   ]
  },
  {
   "cell_type": "markdown",
   "metadata": {},
   "source": [
    "**NSE**"
   ]
  },
  {
   "cell_type": "code",
   "execution_count": null,
   "metadata": {},
   "outputs": [],
   "source": [
    "plot_list = []\n",
    "a=0\n",
    "for i in N\n",
    "    nse_values = Float64[]\n",
    "    hours = Int[]\n",
    "    for h in H\n",
    "        push!(nse_values, value(NSE[h, i]))  \n",
    "        push!(hours, h)                     \n",
    "        a=a+value(NSE[h, i])\n",
    "    end\n",
    "end\n",
    "\n",
    "# Arrange the 6 plots in a grid layout (3 rows x 2 columns)\n",
    "print(a)"
   ]
  },
  {
   "cell_type": "markdown",
   "metadata": {},
   "source": [
    "**Value of Flexibility for EV owners**"
   ]
  },
  {
   "cell_type": "code",
   "execution_count": null,
   "metadata": {},
   "outputs": [],
   "source": [
    "sum(nodal_prices_vector1.*flex_avail.ev_load_shifting_z1+nodal_prices_vector2.*flex_avail.ev_load_shifting_z2+nodal_prices_vector3.*flex_avail.ev_load_shifting_z3+nodal_prices_vector4.*flex_avail.ev_load_shifting_z4+nodal_prices_vector5.*flex_avail.ev_load_shifting_z5+nodal_prices_vector6.*flex_avail.ev_load_shifting_z6)"
   ]
  },
  {
   "cell_type": "code",
   "execution_count": null,
   "metadata": {},
   "outputs": [],
   "source": [
    "# Function to print the CDF values\n",
    "function print_cdf(node_prices_dict, node_label)\n",
    "    # Convert dictionary values to an array\n",
    "    prices = collect(values(node_prices_dict))\n",
    "    # Compute empirical CDF\n",
    "    F = ecdf(prices)\n",
    "    # Sort the data so we can print them in ascending order\n",
    "    sorted_values = sort(prices)\n",
    "    cdf_values = [F(x) for x in sorted_values]\n",
    "\n",
    "    println(\" CDF for $node_label\")\n",
    "    println(\"Price\\tCDF\")\n",
    "    for (val, cdf_val) in zip(sorted_values, cdf_values)\n",
    "        println(\"$val\\t$cdf_val\")\n",
    "    end\n",
    "    println()  # Blank line for readability\n",
    "end\n",
    "\n",
    "\n",
    "\n",
    "# Plot the CDF for each node on the same figure\n",
    "p = plot(title = \"CDF for Nodal Prices by Node\",\n",
    "         xlabel = \"Nodal Price \\$/MWh\", ylabel = \"Cumulative Probability\")\n",
    "\n",
    "# Collect all node dictionaries in an array for convenience\n",
    "nodes = [nodal_prices_node1, nodal_prices_node2, nodal_prices_node3,\n",
    "         nodal_prices_node4, nodal_prices_node5, nodal_prices_node6]\n",
    "\n",
    "for (i, node_dict) in enumerate(nodes)\n",
    "    # Extract and sort the nodal prices\n",
    "    prices = sort(collect(values(node_dict)))\n",
    "    # Compute CDF\n",
    "    F = ecdf(prices)\n",
    "    cdf_vals = [F(x) for x in prices]\n",
    "    # Step plot is typical for an empirical CDF\n",
    "    plot!(prices, cdf_vals, seriestype = :step,  label = \"Node $i\")\n",
    "end\n",
    "\n",
    "# Display the combined plot\n",
    "display(p)\n",
    "# Save it as a PDF\n",
    "savefig(p, \"cdf_nonflex.pdf\")"
   ]
  },
  {
   "cell_type": "code",
   "execution_count": null,
   "metadata": {},
   "outputs": [],
   "source": [
    "# Function to print the CDF values\n",
    "function print_cdf(node_prices_dict, node_label)\n",
    "    # Convert dictionary values to an array\n",
    "    prices = collect(values(node_prices_dict))\n",
    "    # Compute empirical CDF\n",
    "    F = ecdf(prices)\n",
    "    # Sort the data so we can print them in ascending order\n",
    "    sorted_values = sort(prices)\n",
    "    cdf_values = [F(x) for x in sorted_values]\n",
    "\n",
    "    println(\"Empirical CDF for $node_label\")\n",
    "    println(\"Price\\tCDF\")\n",
    "    for (val, cdf_val) in zip(sorted_values, cdf_values)\n",
    "        println(\"$val\\t$cdf_val\")\n",
    "    end\n",
    "    println()  # Blank line for readability\n",
    "end\n",
    "\n",
    "\n",
    "\n",
    "# Plot the CDF for each node on the same figure\n",
    "p = plot(title = \"CDF for Nodal Prices by Node\",\n",
    "         xlabel = \"Nodal Price \\$/MWh\", ylabel = \"Cumulative Probability\")\n",
    "\n",
    "# Collect all node dictionaries in an array for convenience\n",
    "nodes = [nodal_prices_node1, nodal_prices_node2, nodal_prices_node3,\n",
    "         nodal_prices_node4, nodal_prices_node5, nodal_prices_node6]\n",
    "\n",
    "for (i, node_dict) in enumerate(nodes)\n",
    "    # Extract and sort the nodal prices\n",
    "    prices = sort(collect(values(node_dict)))\n",
    "    # Compute CDF\n",
    "    F = ecdf(prices)\n",
    "    cdf_vals = [F(x) for x in prices]\n",
    "    # Step plot is typical for an empirical CDF\n",
    "    plot!(prices, cdf_vals, seriestype = :step, xlims=(0,310), label = \"Node $i\")\n",
    "end\n",
    "\n",
    "# Display the combined plot\n",
    "display(p)\n",
    "# Save it as a PDF\n",
    "savefig(p,\"cdf_noflex2.pdf\")\n"
   ]
  }
 ],
 "metadata": {
  "kernelspec": {
   "display_name": "Julia 1.11.2",
   "language": "julia",
   "name": "julia-1.11"
  },
  "language_info": {
   "file_extension": ".jl",
   "mimetype": "application/julia",
   "name": "julia",
   "version": "1.11.2"
  }
 },
 "nbformat": 4,
 "nbformat_minor": 2
}
