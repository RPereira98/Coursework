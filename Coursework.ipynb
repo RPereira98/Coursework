{
 "cells": [
  {
   "cell_type": "markdown",
   "metadata": {},
   "source": [
    "# Coursework "
   ]
  },
  {
   "cell_type": "markdown",
   "metadata": {},
   "source": [
    "**Initialize packages**"
   ]
  },
  {
   "cell_type": "code",
   "execution_count": 28,
   "metadata": {},
   "outputs": [],
   "source": [
    "using JuMP, HiGHS, Plots, DataFrames, CSV, Statistics"
   ]
  },
  {
   "cell_type": "markdown",
   "metadata": {},
   "source": [
    "**Reading Data**"
   ]
  },
  {
   "cell_type": "code",
   "execution_count": null,
   "metadata": {},
   "outputs": [],
   "source": [
    "flex_avail = DataFrame(CSV.File(\"input_files/Flexible_load_availability.csv\"));"
   ]
  },
  {
   "cell_type": "code",
   "execution_count": 129,
   "metadata": {},
   "outputs": [],
   "source": [
    "flex_load = DataFrame(CSV.File(\"input_files/Flexible_load_data.csv\"));"
   ]
  },
  {
   "cell_type": "code",
   "execution_count": 128,
   "metadata": {},
   "outputs": [],
   "source": [
    "fuels = DataFrame(CSV.File(\"input_files/Fuels_data.csv\")); "
   ]
  },
  {
   "cell_type": "code",
   "execution_count": 127,
   "metadata": {},
   "outputs": [],
   "source": [
    "generators = DataFrame(CSV.File(\"input_files/Generators_data.csv\"));"
   ]
  },
  {
   "cell_type": "code",
   "execution_count": 126,
   "metadata": {},
   "outputs": [],
   "source": [
    "generators_new = generators[generators.New_Build .== 1, :];"
   ]
  },
  {
   "cell_type": "code",
   "execution_count": 124,
   "metadata": {},
   "outputs": [],
   "source": [
    "generators_old_opt = generators[generators.New_Build .== 0, :];"
   ]
  },
  {
   "cell_type": "code",
   "execution_count": 125,
   "metadata": {},
   "outputs": [],
   "source": [
    "generators_old_cont = generators[generators.New_Build .== -1, :];"
   ]
  },
  {
   "cell_type": "code",
   "execution_count": 123,
   "metadata": {},
   "outputs": [],
   "source": [
    "gen_var = DataFrame(CSV.File(\"input_files/Generators_variability.csv\")) ;"
   ]
  },
  {
   "cell_type": "code",
   "execution_count": 122,
   "metadata": {},
   "outputs": [],
   "source": [
    "load = DataFrame(CSV.File(\"input_files/Load_data.csv\"));"
   ]
  },
  {
   "cell_type": "code",
   "execution_count": 121,
   "metadata": {},
   "outputs": [],
   "source": [
    "network = DataFrame(CSV.File(\"input_files/Network.csv\"));"
   ]
  },
  {
   "cell_type": "code",
   "execution_count": 120,
   "metadata": {},
   "outputs": [],
   "source": [
    "# Extract row indices based on New_Build values\n",
    "indices_new_build_1 = findall(generators.New_Build .== 1).+1;\n",
    "indices_new_build_minus1 = findall(generators.New_Build .== -1).+1;\n",
    "indices_new_build_0 = findall(generators.New_Build .== 0).+1;"
   ]
  },
  {
   "cell_type": "code",
   "execution_count": 117,
   "metadata": {},
   "outputs": [],
   "source": [
    "var_old_optional = gen_var[:,indices_new_build_0];"
   ]
  },
  {
   "cell_type": "code",
   "execution_count": 118,
   "metadata": {},
   "outputs": [],
   "source": [
    "var_old_continue = gen_var[:,indices_new_build_minus1];"
   ]
  },
  {
   "cell_type": "code",
   "execution_count": 119,
   "metadata": {},
   "outputs": [],
   "source": [
    "var_new = gen_var[:,indices_new_build_1];"
   ]
  },
  {
   "cell_type": "markdown",
   "metadata": {},
   "source": [
    "### Problem formulation\n",
    "The objective function will be:\n",
    "$\\begin{align}\n",
    "\\min &\\sum_{g \\in NEW} FixedCost_g \\times CAP_g + \\sum_{g \\in OLD continue} FixedCost_g \\times CAP_g \\\\\n",
    "&\\quad\\quad+\\sum_{g \\in OLD optional} FixedCost_g \\times (ExistingCap_g - RET_g)&\\\\\n",
    "&\\quad\\quad+ \\sum_{g\\in NEW}\\sum_{h \\in H} VarCost_g \\times GEN_{g,h} + \\sum_{g\\in OLD continue}\\sum_{h \\in H} VarCost_g \\times GEN_{g,h}\\\\[6pt]\n",
    "&\\quad\\quad \\sum_{g\\in  OLD opional}\\sum_{h \\in H} VarCost_g \\times GEN_{g,h} +  \\sum_{h \\in H} \\sum_{z \\in Z}NSECost \\times NSE_h &\\\\\n",
    "\\end{align}$"
   ]
  },
  {
   "cell_type": "markdown",
   "metadata": {},
   "source": [
    "s.t. the constraints\n",
    "$\\begin{align}\n",
    "&\\text{Supply demand balance constraint:}&\\\\[6pt]\n",
    "&\\sum_{g \\in NEW} P_{g,h,z} + \\sum_{g \\in OLD optional} P_{g,h,z} + \\sum_{g \\in OLD continue} P_{g,h,z} + \\sum_{s \\in STOR} (DISCHARGE_{s,h,z} -CHARGE_{s,h,z} ) + &\\\\\n",
    "& NSE_{h,z} - Demand_{h,z} + FShift_{h,z} -PShift_{h,z} = \\sum_{j \\in J_i} FLOW_{ij} & \\forall \\quad i \\in \\mathcal{N}\\\\\n",
    "\\end{align}$\n"
   ]
  },
  {
   "cell_type": "markdown",
   "metadata": {},
   "source": [
    "$\\begin{align}\n",
    "&\\text{Thermal limit constraint:}&\\\\[6pt]\n",
    "& FLOW_{ij} \\leq MaxFlow_{ij} & \\forall \\quad i \\in \\mathcal{N}, \\forall j \\in J_i \\\\\n",
    "&\\text{Flow direction constraint:}&\\\\[6pt]\n",
    "& FLOW_{ij} = - FLOW_{ji} & \\forall \\quad i, j \\in \\mathcal{N} \\\\\n",
    "\\end{align}\n",
    "$"
   ]
  },
  {
   "cell_type": "markdown",
   "metadata": {},
   "source": [
    "$\\begin{align}\n",
    "&\\text{Capacity constraint for new generators:}&\\\\[6pt]\n",
    "& 0 \\leq  GEN_{g,h} \\leq CAP_g \\times CF_{g,h} & \\forall \\quad g \\in NEW, h \\in H\\\\[6pt]\n",
    "&\\text{Capacity constraint for nuclear:}&\\\\[6pt]\n",
    "& 0 \\leq  GEN_{Nuclear,h} \\leq CAP_g \\times CF_{g,h} & \\forall h \\in H\\\\[6pt]\n",
    "&\\text{Capacity constraint for old continue generators:}&\\\\[6pt]\n",
    "& 0 \\leq  GEN_{g,h} \\leq CAP_g \\times CF_{g,h} & \\forall \\quad g \\in Old Continue, h \\in H\\\\[6pt]\n",
    "&\\text{Capacity constraint for existing optional generators:}&\\\\[6pt]\n",
    "& 0 \\leq  GEN_{g,h}  \\leq (ExistingCap_g - RET_g)\\times CF_{g,h} & \\forall \\quad g \\in Old optional,  h \\in H\\\\[6pt]\n",
    "&\\text{Capacity variable only for new build:}&\\\\[6pt]\n",
    "& CAP_{g} \\geq 0 & \\forall \\quad g \\in NEW\\\\[6pt]\n",
    "&\\text{Retirement variable only for existing:}&\\\\[6pt]\n",
    "& RET_{g} \\geq 0 & \\forall \\quad g \\in Old optional\\\\[6pt]\n",
    "&\\text{Generation and NSE variables:}&\\\\[6pt]\n",
    "& GEN_{g,h} \\geq 0 & \\forall \\quad g \\in G \\text{ \\& } h \\in H\\\\\n",
    "& NSE_{h} \\geq 0 & \\forall \\quad h \\in H\n",
    "\\end{align}$"
   ]
  },
  {
   "cell_type": "markdown",
   "metadata": {},
   "source": [
    "$\\begin{align}\n",
    "& GEN_{Nuclear,h} =  CAP_{Nuclear}           & \\forall \\quad  h \\in H\\\\[6pt]\n",
    "& 0 \\leq CHARGE_{s,h} \\leq CAP_s  & \\forall \\quad s \\in STOR,  h \\in H\\\\[6pt]\n",
    "& 0 \\leq DISCHARGE_{s,h} \\leq CAP_s  & \\forall \\quad s \\in STOR,  h \\in H\\\\[6pt]\n",
    "& \\sum_{r \\in RES} R_{r,h} +  (DISCHARGE_{BESS,h}-CHARGE_{BESS,h}) \\leq 75\\% * Demand_h & \\forall \\quad h \\in H\\\\[6pt]\n",
    "& SOC_{s,h}=SOC_{s,h-1} + \\big(CHARGE_{s,h} * Eff_s - \\frac{DISCHARGE_{s,h}}{Eff_s}\\big)  & \\forall \\quad s \\in S, h \\in H \\setminus {1} \\\\[6pt]\n",
    "& 0 \\leq SOC_{s,h} \\leq SOC_{s}^{max}& \\forall \\quad s \\in S, h \\in H\\\\[6pt]\n",
    "& SOC_{s,1} = SOC_{s,t_{end}} = 50\\% *SOC_{s}^{max}& \\forall \\quad s \\in S\\\\[6pt]\n",
    "\\end{align}$\n"
   ]
  },
  {
   "cell_type": "code",
   "execution_count": 134,
   "metadata": {},
   "outputs": [
    {
     "ename": "LoadError",
     "evalue": "UndefVarError: `Expansion_Model` not defined in `Main`\nSuggestion: check for spelling errors or missing imports.",
     "output_type": "error",
     "traceback": [
      "UndefVarError: `Expansion_Model` not defined in `Main`\nSuggestion: check for spelling errors or missing imports.",
      "",
      "Stacktrace:",
      " [1] top-level scope",
      "   @ In[134]:1"
     ]
    }
   ],
   "source": [
    "@objective(Expansion_Model, Min,\n",
    "    sum(generators[generators.NEW.==g,:Fixed_OM_cost_per_MWyr][1]*Existing_Cap_MW[g] ) + sum(generators[generators.OLD.==g,:])\n",
    "    \n",
    "\n",
    ")"
   ]
  }
 ],
 "metadata": {
  "kernelspec": {
   "display_name": "Julia 1.11.3",
   "language": "julia",
   "name": "julia-1.11"
  },
  "language_info": {
   "file_extension": ".jl",
   "mimetype": "application/julia",
   "name": "julia",
   "version": "1.11.3"
  }
 },
 "nbformat": 4,
 "nbformat_minor": 2
}
